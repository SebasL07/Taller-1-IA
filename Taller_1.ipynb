{
 "cells": [
  {
   "cell_type": "markdown",
   "id": "dd6d51c4",
   "metadata": {},
   "source": [
    "# Taller 1\n",
    "\n",
    "## Integrantes:\n",
    "\n",
    "* Juan Sebastián Libreros García\n",
    "* Pablo Guzmán"
   ]
  },
  {
   "cell_type": "markdown",
   "id": "49e2e4c0",
   "metadata": {},
   "source": [
    "# Contexto\n",
    "\n",
    "Usted hace parte del equipo de analítica de datos del Sunderland AFC de la segunda división inglesa. Se les ha encomendado trabajar en un proyecto sobre reclutar jugadores (scouting). Para ello, cuenta con una base de datos del videojuego FIFA que cuenta con información real de 22,080 jugadores a nivel mundial, recolectada en febrero de 2023. Esta información es confiable dado que dicha empresa cuenta con más de 6 mil scouts alrededor del mundo quienes realizan permanentes evaluaciones sobre el desempeño de los jugadores.\n",
    "\n",
    "# Problema \n",
    "\n",
    "Su jefe le ha pedido una descripción de la base de datos, para conocer mejor cómo pueden trabajar con ella. La base de datos cuenta con una pestaña donde está el diccionario de variables. Tenga en cuenta esta información para poder entender los datos."
   ]
  },
  {
   "cell_type": "code",
   "execution_count": 1,
   "id": "fd5dd86b",
   "metadata": {},
   "outputs": [],
   "source": [
    "import pandas as pd\n",
    "import matplotlib.pyplot as plt \n",
    "import numpy as np\n",
    "import seaborn as sns"
   ]
  },
  {
   "cell_type": "markdown",
   "id": "2ffa833f",
   "metadata": {},
   "source": [
    "# Desarrollo"
   ]
  },
  {
   "cell_type": "code",
   "execution_count": 2,
   "id": "96d321c9",
   "metadata": {},
   "outputs": [],
   "source": [
    "players = pd.read_csv('base_taller.csv', sep=';')"
   ]
  },
  {
   "cell_type": "code",
   "execution_count": 3,
   "id": "869fd345",
   "metadata": {},
   "outputs": [
    {
     "data": {
      "text/html": [
       "<div>\n",
       "<style scoped>\n",
       "    .dataframe tbody tr th:only-of-type {\n",
       "        vertical-align: middle;\n",
       "    }\n",
       "\n",
       "    .dataframe tbody tr th {\n",
       "        vertical-align: top;\n",
       "    }\n",
       "\n",
       "    .dataframe thead th {\n",
       "        text-align: right;\n",
       "    }\n",
       "</style>\n",
       "<table border=\"1\" class=\"dataframe\">\n",
       "  <thead>\n",
       "    <tr style=\"text-align: right;\">\n",
       "      <th></th>\n",
       "      <th>player_id</th>\n",
       "      <th>player_name</th>\n",
       "      <th>age</th>\n",
       "      <th>country</th>\n",
       "      <th>height_cm</th>\n",
       "      <th>weight_lbs</th>\n",
       "      <th>position</th>\n",
       "      <th>overall</th>\n",
       "      <th>potential</th>\n",
       "      <th>Value_millions</th>\n",
       "      <th>pref_foot</th>\n",
       "      <th>weak_foot</th>\n",
       "      <th>skill_moves</th>\n",
       "      <th>international_reputation</th>\n",
       "      <th>Attacking_work_rate</th>\n",
       "      <th>Defensive_work_rate</th>\n",
       "      <th>body_type</th>\n",
       "      <th>club_country</th>\n",
       "      <th>club_name</th>\n",
       "      <th>club_overall</th>\n",
       "    </tr>\n",
       "  </thead>\n",
       "  <tbody>\n",
       "    <tr>\n",
       "      <th>0</th>\n",
       "      <td>231747</td>\n",
       "      <td>Kylian Mbappé Lottin</td>\n",
       "      <td>23</td>\n",
       "      <td>France</td>\n",
       "      <td>182</td>\n",
       "      <td>161</td>\n",
       "      <td>ST</td>\n",
       "      <td>91</td>\n",
       "      <td>95</td>\n",
       "      <td>190,5</td>\n",
       "      <td>Right</td>\n",
       "      <td>4</td>\n",
       "      <td>5</td>\n",
       "      <td>4</td>\n",
       "      <td>High</td>\n",
       "      <td>Low</td>\n",
       "      <td>Unique</td>\n",
       "      <td>France</td>\n",
       "      <td>Paris Saint Germain</td>\n",
       "      <td>84</td>\n",
       "    </tr>\n",
       "    <tr>\n",
       "      <th>1</th>\n",
       "      <td>192985</td>\n",
       "      <td>Kevin De Bruyne</td>\n",
       "      <td>31</td>\n",
       "      <td>Belgium</td>\n",
       "      <td>181</td>\n",
       "      <td>165</td>\n",
       "      <td>CM</td>\n",
       "      <td>91</td>\n",
       "      <td>91</td>\n",
       "      <td>107,5</td>\n",
       "      <td>Right</td>\n",
       "      <td>5</td>\n",
       "      <td>4</td>\n",
       "      <td>4</td>\n",
       "      <td>High</td>\n",
       "      <td>Medium</td>\n",
       "      <td>Unique</td>\n",
       "      <td>England</td>\n",
       "      <td>Manchester City</td>\n",
       "      <td>85</td>\n",
       "    </tr>\n",
       "    <tr>\n",
       "      <th>2</th>\n",
       "      <td>188545</td>\n",
       "      <td>Robert Lewandowski</td>\n",
       "      <td>33</td>\n",
       "      <td>Poland</td>\n",
       "      <td>185</td>\n",
       "      <td>179</td>\n",
       "      <td>ST</td>\n",
       "      <td>91</td>\n",
       "      <td>91</td>\n",
       "      <td>84</td>\n",
       "      <td>Right</td>\n",
       "      <td>4</td>\n",
       "      <td>4</td>\n",
       "      <td>5</td>\n",
       "      <td>High</td>\n",
       "      <td>Medium</td>\n",
       "      <td>Unique</td>\n",
       "      <td>Spain</td>\n",
       "      <td>Fc Barcelona</td>\n",
       "      <td>83</td>\n",
       "    </tr>\n",
       "    <tr>\n",
       "      <th>3</th>\n",
       "      <td>165153</td>\n",
       "      <td>Karim Benzema</td>\n",
       "      <td>34</td>\n",
       "      <td>France</td>\n",
       "      <td>185</td>\n",
       "      <td>179</td>\n",
       "      <td>CF</td>\n",
       "      <td>91</td>\n",
       "      <td>91</td>\n",
       "      <td>64</td>\n",
       "      <td>Right</td>\n",
       "      <td>4</td>\n",
       "      <td>4</td>\n",
       "      <td>4</td>\n",
       "      <td>Medium</td>\n",
       "      <td>Medium</td>\n",
       "      <td>Normal (170-185)</td>\n",
       "      <td>Spain</td>\n",
       "      <td>Real Madrid</td>\n",
       "      <td>85</td>\n",
       "    </tr>\n",
       "    <tr>\n",
       "      <th>4</th>\n",
       "      <td>158023</td>\n",
       "      <td>Lionel Andrés Messi Cuccittini</td>\n",
       "      <td>35</td>\n",
       "      <td>Argentina</td>\n",
       "      <td>169</td>\n",
       "      <td>148</td>\n",
       "      <td>RW</td>\n",
       "      <td>91</td>\n",
       "      <td>91</td>\n",
       "      <td>54</td>\n",
       "      <td>Left</td>\n",
       "      <td>4</td>\n",
       "      <td>4</td>\n",
       "      <td>5</td>\n",
       "      <td>Low</td>\n",
       "      <td>Low</td>\n",
       "      <td>Unique</td>\n",
       "      <td>France</td>\n",
       "      <td>Paris Saint Germain</td>\n",
       "      <td>84</td>\n",
       "    </tr>\n",
       "  </tbody>\n",
       "</table>\n",
       "</div>"
      ],
      "text/plain": [
       "   player_id                     player_name  age    country  height_cm  \\\n",
       "0     231747            Kylian Mbappé Lottin   23     France        182   \n",
       "1     192985                 Kevin De Bruyne   31    Belgium        181   \n",
       "2     188545              Robert Lewandowski   33     Poland        185   \n",
       "3     165153                   Karim Benzema   34     France        185   \n",
       "4     158023  Lionel Andrés Messi Cuccittini   35  Argentina        169   \n",
       "\n",
       "   weight_lbs position  overall  potential Value_millions pref_foot  \\\n",
       "0         161       ST       91         95          190,5     Right   \n",
       "1         165       CM       91         91          107,5     Right   \n",
       "2         179       ST       91         91             84     Right   \n",
       "3         179       CF       91         91             64     Right   \n",
       "4         148       RW       91         91             54      Left   \n",
       "\n",
       "   weak_foot  skill_moves  international_reputation Attacking_work_rate  \\\n",
       "0          4            5                         4                High   \n",
       "1          5            4                         4                High   \n",
       "2          4            4                         5                High   \n",
       "3          4            4                         4              Medium   \n",
       "4          4            4                         5                 Low   \n",
       "\n",
       "  Defensive_work_rate         body_type club_country            club_name  \\\n",
       "0                 Low            Unique       France  Paris Saint Germain   \n",
       "1              Medium            Unique      England      Manchester City   \n",
       "2              Medium            Unique        Spain         Fc Barcelona   \n",
       "3              Medium  Normal (170-185)        Spain          Real Madrid   \n",
       "4                 Low            Unique       France  Paris Saint Germain   \n",
       "\n",
       "   club_overall  \n",
       "0            84  \n",
       "1            85  \n",
       "2            83  \n",
       "3            85  \n",
       "4            84  "
      ]
     },
     "execution_count": 3,
     "metadata": {},
     "output_type": "execute_result"
    }
   ],
   "source": [
    "players.head()"
   ]
  },
  {
   "cell_type": "code",
   "execution_count": 4,
   "id": "f75295f2",
   "metadata": {},
   "outputs": [
    {
     "data": {
      "text/plain": [
       "player_id                   0\n",
       "player_name                 0\n",
       "age                         0\n",
       "country                     0\n",
       "height_cm                   0\n",
       "weight_lbs                  0\n",
       "position                    0\n",
       "overall                     0\n",
       "potential                   0\n",
       "Value_millions              0\n",
       "pref_foot                   0\n",
       "weak_foot                   0\n",
       "skill_moves                 0\n",
       "international_reputation    0\n",
       "Attacking_work_rate         0\n",
       "Defensive_work_rate         0\n",
       "body_type                   0\n",
       "club_country                0\n",
       "club_name                   0\n",
       "club_overall                0\n",
       "dtype: int64"
      ]
     },
     "execution_count": 4,
     "metadata": {},
     "output_type": "execute_result"
    }
   ],
   "source": [
    "players.isna().sum()"
   ]
  },
  {
   "cell_type": "markdown",
   "id": "f350266e",
   "metadata": {},
   "source": [
    "#### 1. ¿Qué tipo de variable es cada una de las columnas? (recuerde responder según las 4 clasificaciones vistas en clase)."
   ]
  },
  {
   "cell_type": "code",
   "execution_count": 5,
   "id": "dadecc8e",
   "metadata": {},
   "outputs": [
    {
     "name": "stdout",
     "output_type": "stream",
     "text": [
      "<class 'pandas.core.frame.DataFrame'>\n",
      "RangeIndex: 22080 entries, 0 to 22079\n",
      "Data columns (total 20 columns):\n",
      " #   Column                    Non-Null Count  Dtype \n",
      "---  ------                    --------------  ----- \n",
      " 0   player_id                 22080 non-null  int64 \n",
      " 1   player_name               22080 non-null  object\n",
      " 2   age                       22080 non-null  int64 \n",
      " 3   country                   22080 non-null  object\n",
      " 4   height_cm                 22080 non-null  int64 \n",
      " 5   weight_lbs                22080 non-null  int64 \n",
      " 6   position                  22080 non-null  object\n",
      " 7   overall                   22080 non-null  int64 \n",
      " 8   potential                 22080 non-null  int64 \n",
      " 9   Value_millions            22080 non-null  object\n",
      " 10  pref_foot                 22080 non-null  object\n",
      " 11  weak_foot                 22080 non-null  int64 \n",
      " 12  skill_moves               22080 non-null  int64 \n",
      " 13  international_reputation  22080 non-null  int64 \n",
      " 14  Attacking_work_rate       22080 non-null  object\n",
      " 15  Defensive_work_rate       22080 non-null  object\n",
      " 16  body_type                 22080 non-null  object\n",
      " 17  club_country              22080 non-null  object\n",
      " 18  club_name                 22080 non-null  object\n",
      " 19  club_overall              22080 non-null  int64 \n",
      "dtypes: int64(10), object(10)\n",
      "memory usage: 3.4+ MB\n"
     ]
    }
   ],
   "source": [
    "players.info()"
   ]
  },
  {
   "cell_type": "markdown",
   "id": "a98d9323",
   "metadata": {},
   "source": [
    "| Atributo                    | Tipo de variable                | Justificación                                                                 |\n",
    "|----------------------------|----------------------------------|-------------------------------------------------------------------------------|\n",
    "| player_id                  | Numérica discreta                | Identificador único, valores enteros sin decimales                            |\n",
    "| player_name                | Categórica nominal               | Nombres de jugadores, no existe orden                                         |\n",
    "| age                        | Numérica discreta                | Edad en años, valores enteros                                                 |\n",
    "| country                    | Categórica nominal               | País de origen, no existe orden                                               |\n",
    "| height_cm                  | Numérica continua                | Estatura en cm, puede tomar cualquier valor dentro de un rango                |\n",
    "| weight_lbs                 | Numérica continua                | Peso en libras, puede tomar cualquier valor dentro de un rango                |\n",
    "| position                   | Categórica nominal               | Posición en el campo, no existe orden                                         |\n",
    "| overall                    | Numérica discreta                | Puntaje entero de desempeño                                                   |\n",
    "| potential                  | Numérica discreta                | Puntaje entero de potencial                                                   |\n",
    "| Value_millions             | Numérica continua                | Valor en millones, puede tomar decimales                                      |\n",
    "| pref_foot                  | Categórica nominal               | Pie preferido, no existe orden                                                |\n",
    "| weak_foot                  | Numérica discreta                | Puntaje entero de habilidad con pie débil                                     |\n",
    "| skill_moves                | Numérica discreta                | Puntaje entero de habilidad técnica                                           |\n",
    "| international_reputation   | Numérica discreta                | Puntaje entero de reputación internacional                                    |\n",
    "| Attacking_work_rate        | Categórica ordinal               | Nivel de esfuerzo ofensivo (Low, Medium, High), existe orden                  |\n",
    "| Defensive_work_rate        | Categórica ordinal               | Nivel de esfuerzo defensivo (Low, Medium, High), existe orden                 |\n",
    "| body_type                  | Categórica nominal               | Tipo de cuerpo, no existe orden                                               |\n",
    "| club_country               | Categórica nominal               | País del club, no existe orden                                                |\n",
    "| club_name                  | Categórica nominal               | Nombre del club, no existe orden                                              |\n",
    "| club_overall               | Numérica discreta                | Puntaje entero de desempeño del club                                          |"
   ]
  },
  {
   "cell_type": "markdown",
   "id": "8bf3eee5",
   "metadata": {},
   "source": [
    "---------------------------------------------------------------------------------------------------------------------------------------"
   ]
  },
  {
   "cell_type": "markdown",
   "id": "3cba6e0c",
   "metadata": {},
   "source": [
    "#### 2. Realice un completo análisis descriptivo de las columnas que vamos a utilizar:\n",
    "\n",
    "a) Age\n",
    "b) height_cm\n",
    "c) position\n",
    "d) club_country\n",
    "e) overall\n",
    "f) club_overall\n",
    "g) value_millions\n",
    "h) pref_foot"
   ]
  },
  {
   "cell_type": "markdown",
   "id": "a4f4572b",
   "metadata": {},
   "source": [
    "-----------------------------------------------------------------------------------"
   ]
  },
  {
   "cell_type": "markdown",
   "id": "c675a1f7",
   "metadata": {},
   "source": [
    "#### 3. Un miembro del cuerpo técnico asegura que los arqueros (GK) altos tienen un mejor desempeño (overall). ¿Qué puede afirmar usted a través de un análisis descriptivo? (Nota: tome por definición tres grupos de estatura: i) menor a 185 cm; ii) entre 185 y 192 cm; iii) más de 192 cm)"
   ]
  },
  {
   "cell_type": "code",
   "execution_count": 6,
   "id": "395eb9f0",
   "metadata": {},
   "outputs": [],
   "source": [
    "goalKeepers = players[players['position'] == 'GK']\n",
    "goalKeepers = goalKeepers[['position', 'overall', 'height_cm',]]"
   ]
  },
  {
   "cell_type": "code",
   "execution_count": 7,
   "id": "0e26b52f",
   "metadata": {},
   "outputs": [],
   "source": [
    "goalKeepers_under_185 = goalKeepers[goalKeepers['height_cm'] < 185]\n",
    "goalKeepers_between_185_and_192 = goalKeepers[(goalKeepers['height_cm'] >= 185) & (goalKeepers['height_cm'] <= 192)]\n",
    "goalKeepers_over_192 = goalKeepers[goalKeepers['height_cm'] > 192]"
   ]
  },
  {
   "cell_type": "code",
   "execution_count": 8,
   "id": "050e95da",
   "metadata": {},
   "outputs": [
    {
     "data": {
      "image/png": "[encoded data removed]",
      "text/plain": [
       "<Figure size 640x480 with 1 Axes>"
      ]
     },
     "metadata": {},
     "output_type": "display_data"
    }
   ],
   "source": [
    "plt.hist(goalKeepers_under_185['height_cm'], bins=15, alpha=0.6,  label='Menor a 185 cm')\n",
    "plt.hist(goalKeepers_between_185_and_192['height_cm'], bins=15, alpha=0.6, label='185-192 cm')\n",
    "plt.hist(goalKeepers_over_192['height_cm'], bins=15, alpha=0.6, label='Más de 192 cm')\n",
    "plt.xlabel('Estatura (cm)')\n",
    "plt.ylabel('Densidad')\n",
    "plt.title('Distribución de estatura por grupo de arqueros (Solo líneas de densidad)')\n",
    "plt.grid()\n",
    "plt.show()\n"
   ]
  },
  {
   "cell_type": "code",
   "execution_count": 9,
   "id": "8a80c726",
   "metadata": {},
   "outputs": [
    {
     "name": "stdout",
     "output_type": "stream",
     "text": [
      "Arqueros con estatura menor a 185 cm:\n",
      "count    438.000000\n",
      "mean      62.086758\n",
      "std        7.177180\n",
      "min       48.000000\n",
      "25%       57.000000\n",
      "50%       62.000000\n",
      "75%       67.000000\n",
      "max       86.000000\n",
      "Name: overall, dtype: float64\n",
      "\n",
      "Arqueros con estatura entre 185 y 192 cm:\n",
      "count    1475.000000\n",
      "mean       64.141017\n",
      "std         7.379823\n",
      "min        46.000000\n",
      "25%        59.000000\n",
      "50%        64.000000\n",
      "75%        69.000000\n",
      "max        89.000000\n",
      "Name: overall, dtype: float64\n",
      "\n",
      "Arqueros con estatura mayor a 192 cm:\n",
      "count    517.000000\n",
      "mean      64.746615\n",
      "std        7.639378\n",
      "min       48.000000\n",
      "25%       60.000000\n",
      "50%       64.000000\n",
      "75%       70.000000\n",
      "max       90.000000\n",
      "Name: overall, dtype: float64\n"
     ]
    }
   ],
   "source": [
    "print(\"Arqueros con estatura menor a 185 cm:\")\n",
    "print(goalKeepers_under_185['overall'].describe())\n",
    "\n",
    "print(\"\\nArqueros con estatura entre 185 y 192 cm:\")\n",
    "print(goalKeepers_between_185_and_192['overall'].describe())\n",
    "\n",
    "print(\"\\nArqueros con estatura mayor a 192 cm:\")\n",
    "print(goalKeepers_over_192['overall'].describe())"
   ]
  },
  {
   "cell_type": "markdown",
   "id": "fc21739f",
   "metadata": {},
   "source": [
    "--------------------------------------------------------------------------------------"
   ]
  },
  {
   "cell_type": "markdown",
   "id": "31c70476",
   "metadata": {},
   "source": [
    "#### 4. Un analista afirma que los jugadores zurdos, tienen un mejor desempeño (overall) que los diestros. ¿Qué puede decir sobre esta afirmación a través de un análisis descriptivo?"
   ]
  },
  {
   "cell_type": "markdown",
   "id": "07ecd281",
   "metadata": {},
   "source": [
    "---------------------------------------------------------------------------------------------------"
   ]
  },
  {
   "cell_type": "markdown",
   "id": "d79b910c",
   "metadata": {},
   "source": [
    "#### 5. Un scout asegura que los mejores jugadores, según el puntaje de desempeño (overall), juegan en clubes que pertenecen al grupo de “ligas top5” (Inglaterra, España, Alemania, Italia y Francia). ¿Qué puede decir sobre estas dos afirmaciones a través de un análisis descriptivo?"
   ]
  },
  {
   "cell_type": "code",
   "execution_count": 10,
   "id": "83284f2c",
   "metadata": {},
   "outputs": [
    {
     "name": "stdout",
     "output_type": "stream",
     "text": [
      "=== ANÁLISIS DESCRIPTIVO: LIGAS TOP5 VS OTRAS LIGAS ===\n",
      "\n",
      "1. ESTADÍSTICAS DESCRIPTIVAS DEL OVERALL:\n",
      "\n",
      "Jugadores en ligas TOP5:\n",
      "count    8141.000000\n",
      "mean       66.844122\n",
      "std         7.268095\n",
      "min        48.000000\n",
      "25%        62.000000\n",
      "50%        66.000000\n",
      "75%        72.000000\n",
      "max        91.000000\n",
      "Name: overall, dtype: float64\n",
      "\n",
      "Jugadores en otras ligas:\n",
      "count    13939.000000\n",
      "mean        64.277710\n",
      "std          6.329658\n",
      "min         46.000000\n",
      "25%         60.000000\n",
      "50%         65.000000\n",
      "75%         68.000000\n",
      "max         87.000000\n",
      "Name: overall, dtype: float64\n",
      "\n",
      "2. COMPARACIÓN DE MEDIAS:\n",
      "Media overall ligas TOP5: 66.84\n",
      "Media overall otras ligas: 64.28\n",
      "Diferencia: 2.57 puntos\n",
      "\n",
      "3. DISTRIBUCIÓN POR RANGOS DE OVERALL:\n",
      "\n",
      "Ligas TOP5:\n",
      "Bajo (0-60): 1181 jugadores (14.5%)\n",
      "Medio (60-70): 4184 jugadores (51.4%)\n",
      "Bueno (70-80): 2352 jugadores (28.9%)\n",
      "Muy Bueno (80-90): 418 jugadores (5.1%)\n",
      "Élite (90-100): 6 jugadores (0.1%)\n",
      "\n",
      "Otras ligas:\n",
      "Bajo (0-60): 2931 jugadores (21.0%)\n",
      "Medio (60-70): 8262 jugadores (59.3%)\n",
      "Bueno (70-80): 2667 jugadores (19.1%)\n",
      "Muy Bueno (80-90): 79 jugadores (0.6%)\n",
      "Élite (90-100): 0 jugadores (0.0%)\n",
      "\n",
      "4. ANÁLISIS DE LOS MEJORES JUGADORES (Overall ≥ 85):\n",
      "Total de jugadores élite: 90\n",
      "En ligas TOP5: 88 (97.8%)\n",
      "En otras ligas: 2 (2.2%)\n",
      "\n",
      "5. DISTRIBUCIÓN GENERAL DE JUGADORES:\n",
      "Jugadores en ligas TOP5: 8141 (36.9%)\n",
      "Jugadores en otras ligas: 13939 (63.1%)\n"
     ]
    }
   ],
   "source": [
    "# Definir los países de las ligas top5\n",
    "top5_countries = ['England', 'Spain', 'Germany', 'Italy', 'France']\n",
    "\n",
    "# Filtrar jugadores de ligas top5 y otras ligas\n",
    "players_top5 = players[players['club_country'].isin(top5_countries)]\n",
    "players_other = players[~players['club_country'].isin(top5_countries)]\n",
    "\n",
    "print(\"=== ANÁLISIS DESCRIPTIVO: LIGAS TOP5 VS OTRAS LIGAS ===\\n\")\n",
    "\n",
    "# Estadísticas básicas del overall para ambos grupos\n",
    "print(\"1. ESTADÍSTICAS DESCRIPTIVAS DEL OVERALL:\")\n",
    "print(\"\\nJugadores en ligas TOP5:\")\n",
    "print(players_top5['overall'].describe())\n",
    "\n",
    "print(\"\\nJugadores en otras ligas:\")\n",
    "print(players_other['overall'].describe())\n",
    "\n",
    "# Comparación de medias\n",
    "mean_top5 = players_top5['overall'].mean()\n",
    "mean_other = players_other['overall'].mean()\n",
    "print(f\"\\n2. COMPARACIÓN DE MEDIAS:\")\n",
    "print(f\"Media overall ligas TOP5: {mean_top5:.2f}\")\n",
    "print(f\"Media overall otras ligas: {mean_other:.2f}\")\n",
    "print(f\"Diferencia: {mean_top5 - mean_other:.2f} puntos\")\n",
    "\n",
    "# Distribución de jugadores por rango de overall\n",
    "print(f\"\\n3. DISTRIBUCIÓN POR RANGOS DE OVERALL:\")\n",
    "\n",
    "# Definir rangos de calidad\n",
    "bins = [0, 60, 70, 80, 90, 100]\n",
    "labels = ['Bajo (0-60)', 'Medio (60-70)', 'Bueno (70-80)', 'Muy Bueno (80-90)', 'Élite (90-100)']\n",
    "\n",
    "players_top5_ranges = pd.cut(players_top5['overall'], bins=bins, labels=labels, right=False)\n",
    "players_other_ranges = pd.cut(players_other['overall'], bins=bins, labels=labels, right=False)\n",
    "\n",
    "# Contar y calcular porcentajes\n",
    "top5_counts = players_top5_ranges.value_counts().sort_index()\n",
    "other_counts = players_other_ranges.value_counts().sort_index()\n",
    "\n",
    "top5_percentages = (top5_counts / len(players_top5) * 100)\n",
    "other_percentages = (other_counts / len(players_other) * 100)\n",
    "\n",
    "print(\"\\nLigas TOP5:\")\n",
    "for i, label in enumerate(labels):\n",
    "    print(f\"{label}: {top5_counts.iloc[i]} jugadores ({top5_percentages.iloc[i]:.1f}%)\")\n",
    "\n",
    "print(\"\\nOtras ligas:\")\n",
    "for i, label in enumerate(labels):\n",
    "    print(f\"{label}: {other_counts.iloc[i]} jugadores ({other_percentages.iloc[i]:.1f}%)\")\n",
    "\n",
    "# Análisis de los mejores jugadores (overall >= 85)\n",
    "best_players_top5 = players_top5[players_top5['overall'] >= 85]\n",
    "best_players_other = players_other[players_other['overall'] >= 85]\n",
    "\n",
    "total_best = len(players[players['overall'] >= 85])\n",
    "pct_best_top5 = len(best_players_top5) / total_best * 100\n",
    "pct_best_other = len(best_players_other) / total_best * 100\n",
    "\n",
    "print(f\"\\n4. ANÁLISIS DE LOS MEJORES JUGADORES (Overall ≥ 85):\")\n",
    "print(f\"Total de jugadores élite: {total_best}\")\n",
    "print(f\"En ligas TOP5: {len(best_players_top5)} ({pct_best_top5:.1f}%)\")\n",
    "print(f\"En otras ligas: {len(best_players_other)} ({pct_best_other:.1f}%)\")\n",
    "\n",
    "# Porcentaje de jugadores por liga\n",
    "total_players = len(players)\n",
    "pct_players_top5 = len(players_top5) / total_players * 100\n",
    "pct_players_other = len(players_other) / total_players * 100\n",
    "\n",
    "print(f\"\\n5. DISTRIBUCIÓN GENERAL DE JUGADORES:\")\n",
    "print(f\"Jugadores en ligas TOP5: {len(players_top5)} ({pct_players_top5:.1f}%)\")\n",
    "print(f\"Jugadores en otras ligas: {len(players_other)} ({pct_players_other:.1f}%)\")"
   ]
  },
  {
   "cell_type": "markdown",
   "id": "8ab11a0e",
   "metadata": {},
   "source": [
    "----------------------------------------------------------------------------------------"
   ]
  },
  {
   "cell_type": "markdown",
   "id": "32cdcaad",
   "metadata": {},
   "source": [
    "#### 6. Otro scout asegura que la proporción de jugadores zurdos es mayor en la posición de centro campista (CM) que en la de centro campista ofensivo (CAM). ¿Qué puede decir sobre esta afirmación?"
   ]
  },
  {
   "cell_type": "markdown",
   "id": "7f692470",
   "metadata": {},
   "source": [
    "-------------------------------------------------------------------------------------------------------------------"
   ]
  },
  {
   "cell_type": "markdown",
   "id": "2d917728",
   "metadata": {},
   "source": [
    "#### 7. Otro scout asegura que los mejores jugadores juegan en los mejores clubes del mundo ¿Es cierta esta afirmación de que existe una correlación entre el desempeño de los jugadores (overall) y el puntaje de desempeño del club al que pertenece (club_overall)?"
   ]
  },
  {
   "cell_type": "code",
   "execution_count": 11,
   "id": "47083351",
   "metadata": {},
   "outputs": [
    {
     "data": {
      "image/png": "[encoded data removed]",
      "text/plain": [
       "<Figure size 1000x600 with 2 Axes>"
      ]
     },
     "metadata": {},
     "output_type": "display_data"
    }
   ],
   "source": [
    "players_copy = players.copy()\n",
    "players_copy = players_copy[['overall','club_overall']]\n",
    "overall_corr = players_copy.corr()\n",
    "\n",
    "plt.figure(figsize=(10, 6))\n",
    "sns.heatmap(overall_corr,annot=True, cmap='coolwarm', fmt='.2f')\n",
    "plt.title('Heatmap de correlación entre overall y club_overall')\n",
    "plt.xlabel('Club Overall')\n",
    "plt.ylabel('Overall')\n",
    "plt.show()"
   ]
  },
  {
   "cell_type": "markdown",
   "id": "ab2b0722",
   "metadata": {},
   "source": [
    "Como se puede ver lo que dice el scout no es necesariamente cierto debido a que en esta matriz de correlación se puede evidenciar que la misam no es muy alta por lo que se podía afirmar que existe una correlación positiva que, sin embargo, no es muy fuerte. Así se concluye que no necesariamente los mejores jugadores están en lso mejores clubes"
   ]
  },
  {
   "cell_type": "markdown",
   "id": "3c1cd76c",
   "metadata": {},
   "source": []
  }
 ],
 "metadata": {
  "kernelspec": {
   "display_name": "venv",
   "language": "python",
   "name": "python3"
  },
  "language_info": {
   "codemirror_mode": {
    "name": "ipython",
    "version": 3
   },
   "file_extension": ".py",
   "mimetype": "text/x-python",
   "name": "python",
   "nbconvert_exporter": "python",
   "pygments_lexer": "ipython3",
   "version": "3.13.6"
  }
 },
 "nbformat": 4,
 "nbformat_minor": 5
}
