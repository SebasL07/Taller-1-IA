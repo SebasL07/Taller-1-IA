{
 "cells": [
  {
   "cell_type": "markdown",
   "id": "dd6d51c4",
   "metadata": {},
   "source": [
    "# Taller 1\n",
    "\n",
    "## Integrantes:\n",
    "\n",
    "* Juan Sebastián Libreros García\n",
    "* Pablo Guzmán"
   ]
  },
  {
   "cell_type": "markdown",
   "id": "49e2e4c0",
   "metadata": {},
   "source": [
    "# Contexto\n",
    "\n",
    "Usted hace parte del equipo de analítica de datos del Sunderland AFC de la segunda división inglesa. Se les ha encomendado trabajar en un proyecto sobre reclutar jugadores (scouting). Para ello, cuenta con una base de datos del videojuego FIFA que cuenta con información real de 22,080 jugadores a nivel mundial, recolectada en febrero de 2023. Esta información es confiable dado que dicha empresa cuenta con más de 6 mil scouts alrededor del mundo quienes realizan permanentes evaluaciones sobre el desempeño de los jugadores.\n",
    "\n",
    "# Problema \n",
    "\n",
    "Su jefe le ha pedido una descripción de la base de datos, para conocer mejor cómo pueden trabajar con ella. La base de datos cuenta con una pestaña donde está el diccionario de variables. Tenga en cuenta esta información para poder entender los datos."
   ]
  },
  {
   "cell_type": "code",
   "execution_count": 1,
   "id": "fd5dd86b",
   "metadata": {},
   "outputs": [],
   "source": [
    "import pandas as pd\n",
    "import matplotlib as plt \n",
    "import numpy as np"
   ]
  },
  {
   "cell_type": "markdown",
   "id": "2ffa833f",
   "metadata": {},
   "source": [
    "# Desarrollo"
   ]
  },
  {
   "cell_type": "code",
   "execution_count": 2,
   "id": "96d321c9",
   "metadata": {},
   "outputs": [],
   "source": [
    "players = pd.read_csv('base_taller.csv', sep=';')"
   ]
  },
  {
   "cell_type": "code",
   "execution_count": 7,
   "id": "869fd345",
   "metadata": {},
   "outputs": [
    {
     "data": {
      "text/html": [
       "<div>\n",
       "<style scoped>\n",
       "    .dataframe tbody tr th:only-of-type {\n",
       "        vertical-align: middle;\n",
       "    }\n",
       "\n",
       "    .dataframe tbody tr th {\n",
       "        vertical-align: top;\n",
       "    }\n",
       "\n",
       "    .dataframe thead th {\n",
       "        text-align: right;\n",
       "    }\n",
       "</style>\n",
       "<table border=\"1\" class=\"dataframe\">\n",
       "  <thead>\n",
       "    <tr style=\"text-align: right;\">\n",
       "      <th></th>\n",
       "      <th>player_id</th>\n",
       "      <th>player_name</th>\n",
       "      <th>age</th>\n",
       "      <th>country</th>\n",
       "      <th>height_cm</th>\n",
       "      <th>weight_lbs</th>\n",
       "      <th>position</th>\n",
       "      <th>overall</th>\n",
       "      <th>potential</th>\n",
       "      <th>Value_millions</th>\n",
       "      <th>pref_foot</th>\n",
       "      <th>weak_foot</th>\n",
       "      <th>skill_moves</th>\n",
       "      <th>international_reputation</th>\n",
       "      <th>Attacking_work_rate</th>\n",
       "      <th>Defensive_work_rate</th>\n",
       "      <th>body_type</th>\n",
       "      <th>club_country</th>\n",
       "      <th>club_name</th>\n",
       "      <th>club_overall</th>\n",
       "    </tr>\n",
       "  </thead>\n",
       "  <tbody>\n",
       "    <tr>\n",
       "      <th>0</th>\n",
       "      <td>231747</td>\n",
       "      <td>Kylian Mbappé Lottin</td>\n",
       "      <td>23</td>\n",
       "      <td>France</td>\n",
       "      <td>182</td>\n",
       "      <td>161</td>\n",
       "      <td>ST</td>\n",
       "      <td>91</td>\n",
       "      <td>95</td>\n",
       "      <td>190,5</td>\n",
       "      <td>Right</td>\n",
       "      <td>4</td>\n",
       "      <td>5</td>\n",
       "      <td>4</td>\n",
       "      <td>High</td>\n",
       "      <td>Low</td>\n",
       "      <td>Unique</td>\n",
       "      <td>France</td>\n",
       "      <td>Paris Saint Germain</td>\n",
       "      <td>84</td>\n",
       "    </tr>\n",
       "    <tr>\n",
       "      <th>1</th>\n",
       "      <td>192985</td>\n",
       "      <td>Kevin De Bruyne</td>\n",
       "      <td>31</td>\n",
       "      <td>Belgium</td>\n",
       "      <td>181</td>\n",
       "      <td>165</td>\n",
       "      <td>CM</td>\n",
       "      <td>91</td>\n",
       "      <td>91</td>\n",
       "      <td>107,5</td>\n",
       "      <td>Right</td>\n",
       "      <td>5</td>\n",
       "      <td>4</td>\n",
       "      <td>4</td>\n",
       "      <td>High</td>\n",
       "      <td>Medium</td>\n",
       "      <td>Unique</td>\n",
       "      <td>England</td>\n",
       "      <td>Manchester City</td>\n",
       "      <td>85</td>\n",
       "    </tr>\n",
       "    <tr>\n",
       "      <th>2</th>\n",
       "      <td>188545</td>\n",
       "      <td>Robert Lewandowski</td>\n",
       "      <td>33</td>\n",
       "      <td>Poland</td>\n",
       "      <td>185</td>\n",
       "      <td>179</td>\n",
       "      <td>ST</td>\n",
       "      <td>91</td>\n",
       "      <td>91</td>\n",
       "      <td>84</td>\n",
       "      <td>Right</td>\n",
       "      <td>4</td>\n",
       "      <td>4</td>\n",
       "      <td>5</td>\n",
       "      <td>High</td>\n",
       "      <td>Medium</td>\n",
       "      <td>Unique</td>\n",
       "      <td>Spain</td>\n",
       "      <td>Fc Barcelona</td>\n",
       "      <td>83</td>\n",
       "    </tr>\n",
       "    <tr>\n",
       "      <th>3</th>\n",
       "      <td>165153</td>\n",
       "      <td>Karim Benzema</td>\n",
       "      <td>34</td>\n",
       "      <td>France</td>\n",
       "      <td>185</td>\n",
       "      <td>179</td>\n",
       "      <td>CF</td>\n",
       "      <td>91</td>\n",
       "      <td>91</td>\n",
       "      <td>64</td>\n",
       "      <td>Right</td>\n",
       "      <td>4</td>\n",
       "      <td>4</td>\n",
       "      <td>4</td>\n",
       "      <td>Medium</td>\n",
       "      <td>Medium</td>\n",
       "      <td>Normal (170-185)</td>\n",
       "      <td>Spain</td>\n",
       "      <td>Real Madrid</td>\n",
       "      <td>85</td>\n",
       "    </tr>\n",
       "    <tr>\n",
       "      <th>4</th>\n",
       "      <td>158023</td>\n",
       "      <td>Lionel Andrés Messi Cuccittini</td>\n",
       "      <td>35</td>\n",
       "      <td>Argentina</td>\n",
       "      <td>169</td>\n",
       "      <td>148</td>\n",
       "      <td>RW</td>\n",
       "      <td>91</td>\n",
       "      <td>91</td>\n",
       "      <td>54</td>\n",
       "      <td>Left</td>\n",
       "      <td>4</td>\n",
       "      <td>4</td>\n",
       "      <td>5</td>\n",
       "      <td>Low</td>\n",
       "      <td>Low</td>\n",
       "      <td>Unique</td>\n",
       "      <td>France</td>\n",
       "      <td>Paris Saint Germain</td>\n",
       "      <td>84</td>\n",
       "    </tr>\n",
       "  </tbody>\n",
       "</table>\n",
       "</div>"
      ],
      "text/plain": [
       "   player_id                     player_name  age    country  height_cm  \\\n",
       "0     231747            Kylian Mbappé Lottin   23     France        182   \n",
       "1     192985                 Kevin De Bruyne   31    Belgium        181   \n",
       "2     188545              Robert Lewandowski   33     Poland        185   \n",
       "3     165153                   Karim Benzema   34     France        185   \n",
       "4     158023  Lionel Andrés Messi Cuccittini   35  Argentina        169   \n",
       "\n",
       "   weight_lbs position  overall  potential Value_millions pref_foot  \\\n",
       "0         161       ST       91         95          190,5     Right   \n",
       "1         165       CM       91         91          107,5     Right   \n",
       "2         179       ST       91         91             84     Right   \n",
       "3         179       CF       91         91             64     Right   \n",
       "4         148       RW       91         91             54      Left   \n",
       "\n",
       "   weak_foot  skill_moves  international_reputation Attacking_work_rate  \\\n",
       "0          4            5                         4                High   \n",
       "1          5            4                         4                High   \n",
       "2          4            4                         5                High   \n",
       "3          4            4                         4              Medium   \n",
       "4          4            4                         5                 Low   \n",
       "\n",
       "  Defensive_work_rate         body_type club_country            club_name  \\\n",
       "0                 Low            Unique       France  Paris Saint Germain   \n",
       "1              Medium            Unique      England      Manchester City   \n",
       "2              Medium            Unique        Spain         Fc Barcelona   \n",
       "3              Medium  Normal (170-185)        Spain          Real Madrid   \n",
       "4                 Low            Unique       France  Paris Saint Germain   \n",
       "\n",
       "   club_overall  \n",
       "0            84  \n",
       "1            85  \n",
       "2            83  \n",
       "3            85  \n",
       "4            84  "
      ]
     },
     "execution_count": 7,
     "metadata": {},
     "output_type": "execute_result"
    }
   ],
   "source": [
    "players.head()"
   ]
  },
  {
   "cell_type": "code",
   "execution_count": 14,
   "id": "f75295f2",
   "metadata": {},
   "outputs": [
    {
     "data": {
      "text/plain": [
       "player_id                   0\n",
       "player_name                 0\n",
       "age                         0\n",
       "country                     0\n",
       "height_cm                   0\n",
       "weight_lbs                  0\n",
       "position                    0\n",
       "overall                     0\n",
       "potential                   0\n",
       "Value_millions              0\n",
       "pref_foot                   0\n",
       "weak_foot                   0\n",
       "skill_moves                 0\n",
       "international_reputation    0\n",
       "Attacking_work_rate         0\n",
       "Defensive_work_rate         0\n",
       "body_type                   0\n",
       "club_country                0\n",
       "club_name                   0\n",
       "club_overall                0\n",
       "dtype: int64"
      ]
     },
     "execution_count": 14,
     "metadata": {},
     "output_type": "execute_result"
    }
   ],
   "source": [
    "players.isna().sum()"
   ]
  },
  {
   "cell_type": "markdown",
   "id": "f350266e",
   "metadata": {},
   "source": [
    "#### 1. ¿Qué tipo de variable es cada una de las columnas? (recuerde responder según las 4 clasificaciones vistas en clase)."
   ]
  },
  {
   "cell_type": "code",
   "execution_count": 3,
   "id": "dadecc8e",
   "metadata": {},
   "outputs": [
    {
     "name": "stdout",
     "output_type": "stream",
     "text": [
      "<class 'pandas.core.frame.DataFrame'>\n",
      "RangeIndex: 22080 entries, 0 to 22079\n",
      "Data columns (total 20 columns):\n",
      " #   Column                    Non-Null Count  Dtype \n",
      "---  ------                    --------------  ----- \n",
      " 0   player_id                 22080 non-null  int64 \n",
      " 1   player_name               22080 non-null  object\n",
      " 2   age                       22080 non-null  int64 \n",
      " 3   country                   22080 non-null  object\n",
      " 4   height_cm                 22080 non-null  int64 \n",
      " 5   weight_lbs                22080 non-null  int64 \n",
      " 6   position                  22080 non-null  object\n",
      " 7   overall                   22080 non-null  int64 \n",
      " 8   potential                 22080 non-null  int64 \n",
      " 9   Value_millions            22080 non-null  object\n",
      " 10  pref_foot                 22080 non-null  object\n",
      " 11  weak_foot                 22080 non-null  int64 \n",
      " 12  skill_moves               22080 non-null  int64 \n",
      " 13  international_reputation  22080 non-null  int64 \n",
      " 14  Attacking_work_rate       22080 non-null  object\n",
      " 15  Defensive_work_rate       22080 non-null  object\n",
      " 16  body_type                 22080 non-null  object\n",
      " 17  club_country              22080 non-null  object\n",
      " 18  club_name                 22080 non-null  object\n",
      " 19  club_overall              22080 non-null  int64 \n",
      "dtypes: int64(10), object(10)\n",
      "memory usage: 3.4+ MB\n"
     ]
    }
   ],
   "source": [
    "players.info()"
   ]
  },
  {
   "cell_type": "markdown",
   "id": "a98d9323",
   "metadata": {},
   "source": [
    "| Atributo                    | Tipo de variable                | Justificación                                                                 |\n",
    "|----------------------------|----------------------------------|-------------------------------------------------------------------------------|\n",
    "| player_id                  | Numérica discreta                | Identificador único, valores enteros sin decimales                            |\n",
    "| player_name                | Categórica nominal               | Nombres de jugadores, no existe orden                                         |\n",
    "| age                        | Numérica discreta                | Edad en años, valores enteros                                                 |\n",
    "| country                    | Categórica nominal               | País de origen, no existe orden                                               |\n",
    "| height_cm                  | Numérica continua                | Estatura en cm, puede tomar cualquier valor dentro de un rango                |\n",
    "| weight_lbs                 | Numérica continua                | Peso en libras, puede tomar cualquier valor dentro de un rango                |\n",
    "| position                   | Categórica nominal               | Posición en el campo, no existe orden                                         |\n",
    "| overall                    | Numérica discreta                | Puntaje entero de desempeño                                                   |\n",
    "| potential                  | Numérica discreta                | Puntaje entero de potencial                                                   |\n",
    "| Value_millions             | Numérica continua                | Valor en millones, puede tomar decimales                                      |\n",
    "| pref_foot                  | Categórica nominal               | Pie preferido, no existe orden                                                |\n",
    "| weak_foot                  | Numérica discreta                | Puntaje entero de habilidad con pie débil                                     |\n",
    "| skill_moves                | Numérica discreta                | Puntaje entero de habilidad técnica                                           |\n",
    "| international_reputation   | Numérica discreta                | Puntaje entero de reputación internacional                                    |\n",
    "| Attacking_work_rate        | Categórica ordinal               | Nivel de esfuerzo ofensivo (Low, Medium, High), existe orden                  |\n",
    "| Defensive_work_rate        | Categórica ordinal               | Nivel de esfuerzo defensivo (Low, Medium, High), existe orden                 |\n",
    "| body_type                  | Categórica nominal               | Tipo de cuerpo, no existe orden                                               |\n",
    "| club_country               | Categórica nominal               | País del club, no existe orden                                                |\n",
    "| club_name                  | Categórica nominal               | Nombre del club, no existe orden                                              |\n",
    "| club_overall               | Numérica discreta                | Puntaje entero de desempeño del club                                          |"
   ]
  },
  {
   "cell_type": "markdown",
   "id": "8bf3eee5",
   "metadata": {},
   "source": [
    "---------------------------------------------------------------------------------------------------------------------------------------"
   ]
  },
  {
   "cell_type": "markdown",
   "id": "3cba6e0c",
   "metadata": {},
   "source": [
    "#### 2. Realice un completo análisis descriptivo de las columnas que vamos a utilizar:\n",
    "\n",
    "a) Age\n",
    "b) height_cm\n",
    "c) position\n",
    "d) club_country\n",
    "e) overall\n",
    "f) club_overall\n",
    "g) value_millions\n",
    "h) pref_foot"
   ]
  },
  {
   "cell_type": "markdown",
   "id": "a4f4572b",
   "metadata": {},
   "source": [
    "-----------------------------------------------------------------------------------"
   ]
  },
  {
   "cell_type": "markdown",
   "id": "c675a1f7",
   "metadata": {},
   "source": [
    "#### 3. Un miembro del cuerpo técnico asegura que los arqueros (GK) altos tienen un mejor desempeño (overall). ¿Qué puede afirmar usted a través de un análisis descriptivo? (Nota: tome por definición tres grupos de estatura: i) menor a 185 cm; ii) entre 185 y 192 cm; iii) más de 192 cm)"
   ]
  },
  {
   "cell_type": "code",
   "execution_count": 12,
   "id": "395eb9f0",
   "metadata": {},
   "outputs": [
    {
     "data": {
      "text/html": [
       "<div>\n",
       "<style scoped>\n",
       "    .dataframe tbody tr th:only-of-type {\n",
       "        vertical-align: middle;\n",
       "    }\n",
       "\n",
       "    .dataframe tbody tr th {\n",
       "        vertical-align: top;\n",
       "    }\n",
       "\n",
       "    .dataframe thead th {\n",
       "        text-align: right;\n",
       "    }\n",
       "</style>\n",
       "<table border=\"1\" class=\"dataframe\">\n",
       "  <thead>\n",
       "    <tr style=\"text-align: right;\">\n",
       "      <th></th>\n",
       "      <th>position</th>\n",
       "      <th>overall</th>\n",
       "      <th>height_cm</th>\n",
       "    </tr>\n",
       "  </thead>\n",
       "  <tbody>\n",
       "    <tr>\n",
       "      <th>6</th>\n",
       "      <td>GK</td>\n",
       "      <td>90</td>\n",
       "      <td>199</td>\n",
       "    </tr>\n",
       "    <tr>\n",
       "      <th>7</th>\n",
       "      <td>GK</td>\n",
       "      <td>89</td>\n",
       "      <td>193</td>\n",
       "    </tr>\n",
       "    <tr>\n",
       "      <th>11</th>\n",
       "      <td>GK</td>\n",
       "      <td>89</td>\n",
       "      <td>188</td>\n",
       "    </tr>\n",
       "    <tr>\n",
       "      <th>14</th>\n",
       "      <td>GK</td>\n",
       "      <td>89</td>\n",
       "      <td>193</td>\n",
       "    </tr>\n",
       "    <tr>\n",
       "      <th>16</th>\n",
       "      <td>GK</td>\n",
       "      <td>88</td>\n",
       "      <td>196</td>\n",
       "    </tr>\n",
       "    <tr>\n",
       "      <th>18</th>\n",
       "      <td>GK</td>\n",
       "      <td>88</td>\n",
       "      <td>188</td>\n",
       "    </tr>\n",
       "    <tr>\n",
       "      <th>22</th>\n",
       "      <td>GK</td>\n",
       "      <td>88</td>\n",
       "      <td>187</td>\n",
       "    </tr>\n",
       "    <tr>\n",
       "      <th>28</th>\n",
       "      <td>GK</td>\n",
       "      <td>87</td>\n",
       "      <td>191</td>\n",
       "    </tr>\n",
       "    <tr>\n",
       "      <th>33</th>\n",
       "      <td>GK</td>\n",
       "      <td>87</td>\n",
       "      <td>192</td>\n",
       "    </tr>\n",
       "    <tr>\n",
       "      <th>37</th>\n",
       "      <td>GK</td>\n",
       "      <td>85</td>\n",
       "      <td>195</td>\n",
       "    </tr>\n",
       "  </tbody>\n",
       "</table>\n",
       "</div>"
      ],
      "text/plain": [
       "   position  overall  height_cm\n",
       "6        GK       90        199\n",
       "7        GK       89        193\n",
       "11       GK       89        188\n",
       "14       GK       89        193\n",
       "16       GK       88        196\n",
       "18       GK       88        188\n",
       "22       GK       88        187\n",
       "28       GK       87        191\n",
       "33       GK       87        192\n",
       "37       GK       85        195"
      ]
     },
     "execution_count": 12,
     "metadata": {},
     "output_type": "execute_result"
    }
   ],
   "source": [
    "goalKeepers = players[players['position'] == 'GK']\n",
    "goalKeepers = goalKeepers[['position', 'overall', 'height_cm',]]\n",
    "goalKeepers.head(10)"
   ]
  },
  {
   "cell_type": "code",
   "execution_count": 13,
   "id": "0f3a3c45",
   "metadata": {},
   "outputs": [
    {
     "data": {
      "text/html": [
       "<div>\n",
       "<style scoped>\n",
       "    .dataframe tbody tr th:only-of-type {\n",
       "        vertical-align: middle;\n",
       "    }\n",
       "\n",
       "    .dataframe tbody tr th {\n",
       "        vertical-align: top;\n",
       "    }\n",
       "\n",
       "    .dataframe thead th {\n",
       "        text-align: right;\n",
       "    }\n",
       "</style>\n",
       "<table border=\"1\" class=\"dataframe\">\n",
       "  <thead>\n",
       "    <tr style=\"text-align: right;\">\n",
       "      <th></th>\n",
       "      <th>overall</th>\n",
       "      <th>height_cm</th>\n",
       "    </tr>\n",
       "  </thead>\n",
       "  <tbody>\n",
       "    <tr>\n",
       "      <th>count</th>\n",
       "      <td>2430.000000</td>\n",
       "      <td>2430.000000</td>\n",
       "    </tr>\n",
       "    <tr>\n",
       "      <th>mean</th>\n",
       "      <td>63.899588</td>\n",
       "      <td>188.593827</td>\n",
       "    </tr>\n",
       "    <tr>\n",
       "      <th>std</th>\n",
       "      <td>7.449501</td>\n",
       "      <td>4.758131</td>\n",
       "    </tr>\n",
       "    <tr>\n",
       "      <th>min</th>\n",
       "      <td>46.000000</td>\n",
       "      <td>165.000000</td>\n",
       "    </tr>\n",
       "    <tr>\n",
       "      <th>25%</th>\n",
       "      <td>59.000000</td>\n",
       "      <td>185.000000</td>\n",
       "    </tr>\n",
       "    <tr>\n",
       "      <th>50%</th>\n",
       "      <td>64.000000</td>\n",
       "      <td>188.000000</td>\n",
       "    </tr>\n",
       "    <tr>\n",
       "      <th>75%</th>\n",
       "      <td>69.000000</td>\n",
       "      <td>192.000000</td>\n",
       "    </tr>\n",
       "    <tr>\n",
       "      <th>max</th>\n",
       "      <td>90.000000</td>\n",
       "      <td>206.000000</td>\n",
       "    </tr>\n",
       "  </tbody>\n",
       "</table>\n",
       "</div>"
      ],
      "text/plain": [
       "           overall    height_cm\n",
       "count  2430.000000  2430.000000\n",
       "mean     63.899588   188.593827\n",
       "std       7.449501     4.758131\n",
       "min      46.000000   165.000000\n",
       "25%      59.000000   185.000000\n",
       "50%      64.000000   188.000000\n",
       "75%      69.000000   192.000000\n",
       "max      90.000000   206.000000"
      ]
     },
     "execution_count": 13,
     "metadata": {},
     "output_type": "execute_result"
    }
   ],
   "source": [
    "goalKeepers.describe()"
   ]
  },
  {
   "cell_type": "markdown",
   "id": "fc21739f",
   "metadata": {},
   "source": [
    "--------------------------------------------------------------------------------------"
   ]
  },
  {
   "cell_type": "markdown",
   "id": "31c70476",
   "metadata": {},
   "source": [
    "#### 4. Un analista afirma que los jugadores zurdos, tienen un mejor desempeño (overall) que los diestros. ¿Qué puede decir sobre esta afirmación a través de un análisis descriptivo?"
   ]
  },
  {
   "cell_type": "markdown",
   "id": "07ecd281",
   "metadata": {},
   "source": [
    "---------------------------------------------------------------------------------------------------"
   ]
  },
  {
   "cell_type": "markdown",
   "id": "d79b910c",
   "metadata": {},
   "source": [
    "#### 5. Un scout asegura que los mejores jugadores, según el puntaje de desempeño (overall), juegan en clubes que pertenecen al grupo de “ligas top5” (Inglaterra, España, Alemania, Italia y Francia). ¿Qué puede decir sobre estas dos afirmaciones a través de un análisis descriptivo?"
   ]
  },
  {
   "cell_type": "markdown",
   "id": "8ab11a0e",
   "metadata": {},
   "source": [
    "----------------------------------------------------------------------------------------"
   ]
  },
  {
   "cell_type": "markdown",
   "id": "32cdcaad",
   "metadata": {},
   "source": [
    "#### 6. Otro scout asegura que la proporción de jugadores zurdos es mayor en la posición de centro campista (CM) que en la de centro campista ofensivo (CAM). ¿Qué puede decir sobre esta afirmación?"
   ]
  },
  {
   "cell_type": "markdown",
   "id": "7f692470",
   "metadata": {},
   "source": [
    "-------------------------------------------------------------------------------------------------------------------"
   ]
  },
  {
   "cell_type": "markdown",
   "id": "2d917728",
   "metadata": {},
   "source": [
    "#### 7. Otro scout asegura que los mejores jugadores juegan en los mejores clubes del mundo ¿Es cierta esta afirmación de que existe una correlación entre el desempeño de los jugadores (overall) y el puntaje de desempeño del club al que pertenece (club_overall)?"
   ]
  },
  {
   "cell_type": "markdown",
   "id": "3c1cd76c",
   "metadata": {},
   "source": []
  }
 ],
 "metadata": {
  "kernelspec": {
   "display_name": "venv",
   "language": "python",
   "name": "python3"
  },
  "language_info": {
   "codemirror_mode": {
    "name": "ipython",
    "version": 3
   },
   "file_extension": ".py",
   "mimetype": "text/x-python",
   "name": "python",
   "nbconvert_exporter": "python",
   "pygments_lexer": "ipython3",
   "version": "3.13.6"
  }
 },
 "nbformat": 4,
 "nbformat_minor": 5
}
