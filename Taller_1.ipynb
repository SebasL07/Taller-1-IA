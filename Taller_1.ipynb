{
 "cells": [
  {
   "cell_type": "markdown",
   "id": "dd6d51c4",
   "metadata": {},
   "source": [
    "# Taller 1\n",
    "\n",
    "## Integrantes:\n",
    "\n",
    "* Juan Sebastián Libreros García\n",
    "* Pablo Guzmán"
   ]
  },
  {
   "cell_type": "markdown",
   "id": "49e2e4c0",
   "metadata": {},
   "source": [
    "# Contexto\n",
    "\n",
    "Usted hace parte del equipo de analítica de datos del Sunderland AFC de la segunda división inglesa. Se les ha encomendado trabajar en un proyecto sobre reclutar jugadores (scouting). Para ello, cuenta con una base de datos del videojuego FIFA que cuenta con información real de 22,080 jugadores a nivel mundial, recolectada en febrero de 2023. Esta información es confiable dado que dicha empresa cuenta con más de 6 mil scouts alrededor del mundo quienes realizan permanentes evaluaciones sobre el desempeño de los jugadores.\n",
    "\n",
    "# Problema \n",
    "\n",
    "Su jefe le ha pedido una descripción de la base de datos, para conocer mejor cómo pueden trabajar con ella. La base de datos cuenta con una pestaña donde está el diccionario de variables. Tenga en cuenta esta información para poder entender los datos."
   ]
  },
  {
   "cell_type": "code",
   "execution_count": 2,
   "id": "fd5dd86b",
   "metadata": {},
   "outputs": [],
   "source": [
    "import pandas as pd\n",
    "import matplotlib as plt \n",
    "import numpy as np"
   ]
  },
  {
   "cell_type": "markdown",
   "id": "2ffa833f",
   "metadata": {},
   "source": [
    "# Desarrollo"
   ]
  },
  {
   "cell_type": "code",
   "execution_count": 3,
   "id": "96d321c9",
   "metadata": {},
   "outputs": [],
   "source": [
    "players = pd.read_csv('base_taller.csv', sep=';')"
   ]
  },
  {
   "cell_type": "markdown",
   "id": "f350266e",
   "metadata": {},
   "source": [
    "#### 1. ¿Qué tipo de variable es cada una de las columnas? (recuerde responder según las 4 clasificaciones vistas en clase)."
   ]
  },
  {
   "cell_type": "code",
   "execution_count": 4,
   "id": "dadecc8e",
   "metadata": {},
   "outputs": [
    {
     "name": "stdout",
     "output_type": "stream",
     "text": [
      "<class 'pandas.core.frame.DataFrame'>\n",
      "RangeIndex: 22080 entries, 0 to 22079\n",
      "Data columns (total 20 columns):\n",
      " #   Column                    Non-Null Count  Dtype \n",
      "---  ------                    --------------  ----- \n",
      " 0   player_id                 22080 non-null  int64 \n",
      " 1   player_name               22080 non-null  object\n",
      " 2   age                       22080 non-null  int64 \n",
      " 3   country                   22080 non-null  object\n",
      " 4   height_cm                 22080 non-null  int64 \n",
      " 5   weight_lbs                22080 non-null  int64 \n",
      " 6   position                  22080 non-null  object\n",
      " 7   overall                   22080 non-null  int64 \n",
      " 8   potential                 22080 non-null  int64 \n",
      " 9   Value_millions            22080 non-null  object\n",
      " 10  pref_foot                 22080 non-null  object\n",
      " 11  weak_foot                 22080 non-null  int64 \n",
      " 12  skill_moves               22080 non-null  int64 \n",
      " 13  international_reputation  22080 non-null  int64 \n",
      " 14  Attacking_work_rate       22080 non-null  object\n",
      " 15  Defensive_work_rate       22080 non-null  object\n",
      " 16  body_type                 22080 non-null  object\n",
      " 17  club_country              22080 non-null  object\n",
      " 18  club_name                 22080 non-null  object\n",
      " 19  club_overall              22080 non-null  int64 \n",
      "dtypes: int64(10), object(10)\n",
      "memory usage: 3.4+ MB\n"
     ]
    }
   ],
   "source": [
    "players.info()"
   ]
  },
  {
   "cell_type": "markdown",
   "id": "a98d9323",
   "metadata": {},
   "source": [
    "| Atributo                    | Tipo de variable                | Justificación                                                                 |\n",
    "|----------------------------|----------------------------------|-------------------------------------------------------------------------------|\n",
    "| player_id                  | Numérica discreta                | Identificador único, valores enteros sin decimales                            |\n",
    "| player_name                | Categórica nominal               | Nombres de jugadores, no existe orden                                         |\n",
    "| age                        | Numérica discreta                | Edad en años, valores enteros                                                 |\n",
    "| country                    | Categórica nominal               | País de origen, no existe orden                                               |\n",
    "| height_cm                  | Numérica continua                | Estatura en cm, puede tomar cualquier valor dentro de un rango                |\n",
    "| weight_lbs                 | Numérica continua                | Peso en libras, puede tomar cualquier valor dentro de un rango                |\n",
    "| position                   | Categórica nominal               | Posición en el campo, no existe orden                                         |\n",
    "| overall                    | Numérica discreta                | Puntaje entero de desempeño                                                   |\n",
    "| potential                  | Numérica discreta                | Puntaje entero de potencial                                                   |\n",
    "| Value_millions             | Numérica continua                | Valor en millones, puede tomar decimales                                      |\n",
    "| pref_foot                  | Categórica nominal               | Pie preferido, no existe orden                                                |\n",
    "| weak_foot                  | Numérica discreta                | Puntaje entero de habilidad con pie débil                                     |\n",
    "| skill_moves                | Numérica discreta                | Puntaje entero de habilidad técnica                                           |\n",
    "| international_reputation   | Numérica discreta                | Puntaje entero de reputación internacional                                    |\n",
    "| Attacking_work_rate        | Categórica ordinal               | Nivel de esfuerzo ofensivo (Low, Medium, High), existe orden                  |\n",
    "| Defensive_work_rate        | Categórica ordinal               | Nivel de esfuerzo defensivo (Low, Medium, High), existe orden                 |\n",
    "| body_type                  | Categórica nominal               | Tipo de cuerpo, no existe orden                                               |\n",
    "| club_country               | Categórica nominal               | País del club, no existe orden                                                |\n",
    "| club_name                  | Categórica nominal               | Nombre del club, no existe orden                                              |\n",
    "| club_overall               | Numérica discreta                | Puntaje entero de desempeño del club                                          |"
   ]
  },
  {
   "cell_type": "markdown",
   "id": "8bf3eee5",
   "metadata": {},
   "source": [
    "---------------------------------------------------------------------------------------------------------------------------------------"
   ]
  },
  {
   "cell_type": "markdown",
   "id": "3cba6e0c",
   "metadata": {},
   "source": [
    "#### 2. Realice un completo análisis descriptivo de las columnas que vamos a utilizar:\n",
    "\n",
    "a) Age\n",
    "b) height_cm\n",
    "c) position\n",
    "d) club_country\n",
    "e) overall\n",
    "f) club_overall\n",
    "g) value_millions\n",
    "h) pref_foot"
   ]
  },
  {
   "cell_type": "markdown",
   "id": "a4f4572b",
   "metadata": {},
   "source": [
    "-----------------------------------------------------------------------------------"
   ]
  },
  {
   "cell_type": "markdown",
   "id": "c675a1f7",
   "metadata": {},
   "source": [
    "#### 3. Un miembro del cuerpo técnico asegura que los arqueros (GK) altos tienen un mejor desempeño (overall). ¿Qué puede afirmar usted a través de un análisis descriptivo? (Nota: tome por definición tres grupos de estatura: i) menor a 185 cm; ii) entre 185 y 192 cm; iii) más de 192 cm)"
   ]
  },
  {
   "cell_type": "markdown",
   "id": "fc21739f",
   "metadata": {},
   "source": [
    "--------------------------------------------------------------------------------------"
   ]
  },
  {
   "cell_type": "markdown",
   "id": "31c70476",
   "metadata": {},
   "source": [
    "#### 4. Un analista afirma que los jugadores zurdos, tienen un mejor desempeño (overall) que los diestros. ¿Qué puede decir sobre esta afirmación a través de un análisis descriptivo?"
   ]
  },
  {
   "cell_type": "markdown",
   "id": "07ecd281",
   "metadata": {},
   "source": [
    "---------------------------------------------------------------------------------------------------"
   ]
  },
  {
   "cell_type": "markdown",
   "id": "d79b910c",
   "metadata": {},
   "source": [
    "#### 5. Un scout asegura que los mejores jugadores, según el puntaje de desempeño (overall), juegan en clubes que pertenecen al grupo de “ligas top5” (Inglaterra, España, Alemania, Italia y Francia). ¿Qué puede decir sobre estas dos afirmaciones a través de un análisis descriptivo?"
   ]
  },
  {
   "cell_type": "markdown",
   "id": "8ab11a0e",
   "metadata": {},
   "source": [
    "----------------------------------------------------------------------------------------"
   ]
  },
  {
   "cell_type": "markdown",
   "id": "32cdcaad",
   "metadata": {},
   "source": [
    "#### 6. Otro scout asegura que la proporción de jugadores zurdos es mayor en la posición de centro campista (CM) que en la de centro campista ofensivo (CAM). ¿Qué puede decir sobre esta afirmación?"
   ]
  },
  {
   "cell_type": "markdown",
   "id": "7f692470",
   "metadata": {},
   "source": [
    "-------------------------------------------------------------------------------------------------------------------"
   ]
  },
  {
   "cell_type": "markdown",
   "id": "2d917728",
   "metadata": {},
   "source": [
    "#### 7. Otro scout asegura que los mejores jugadores juegan en los mejores clubes del mundo ¿Es cierta esta afirmación de que existe una correlación entre el desempeño de los jugadores (overall) y el puntaje de desempeño del club al que pertenece (club_overall)?"
   ]
  },
  {
   "cell_type": "markdown",
   "id": "3c1cd76c",
   "metadata": {},
   "source": []
  }
 ],
 "metadata": {
  "kernelspec": {
   "display_name": "venv",
   "language": "python",
   "name": "python3"
  },
  "language_info": {
   "codemirror_mode": {
    "name": "ipython",
    "version": 3
   },
   "file_extension": ".py",
   "mimetype": "text/x-python",
   "name": "python",
   "nbconvert_exporter": "python",
   "pygments_lexer": "ipython3",
   "version": "3.13.5"
  }
 },
 "nbformat": 4,
 "nbformat_minor": 5
}
